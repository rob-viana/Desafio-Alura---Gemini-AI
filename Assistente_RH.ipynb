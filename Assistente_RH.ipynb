{
  "nbformat": 4,
  "nbformat_minor": 0,
  "metadata": {
    "colab": {
      "provenance": [],
      "authorship_tag": "ABX9TyP9fzMctPbCGi3jrn7dH8Pz",
      "include_colab_link": true
    },
    "kernelspec": {
      "name": "python3",
      "display_name": "Python 3"
    },
    "language_info": {
      "name": "python"
    },
    "widgets": {
      "application/vnd.jupyter.widget-state+json": {
        "88bd03f81ac24fd68773d4fbf7aee178": {
          "model_module": "@jupyter-widgets/controls",
          "model_name": "FileUploadModel",
          "model_module_version": "1.5.0",
          "state": {
            "_counter": 8,
            "_dom_classes": [],
            "_model_module": "@jupyter-widgets/controls",
            "_model_module_version": "1.5.0",
            "_model_name": "FileUploadModel",
            "_view_count": null,
            "_view_module": "@jupyter-widgets/controls",
            "_view_module_version": "1.5.0",
            "_view_name": "FileUploadView",
            "accept": ".pdf",
            "button_style": "",
            "data": [
              null
            ],
            "description": "Upload",
            "description_tooltip": null,
            "disabled": false,
            "error": "",
            "icon": "upload",
            "layout": "IPY_MODEL_1cce700067354a64bb4374a9d4b74719",
            "metadata": [
              {
                "name": "Currículo Advogada.pdf",
                "type": "application/pdf",
                "size": 282836,
                "lastModified": 1715458789579
              }
            ],
            "multiple": false,
            "style": "IPY_MODEL_1dad89faeaf94058805300ec24d9c610"
          }
        },
        "1cce700067354a64bb4374a9d4b74719": {
          "model_module": "@jupyter-widgets/base",
          "model_name": "LayoutModel",
          "model_module_version": "1.2.0",
          "state": {
            "_model_module": "@jupyter-widgets/base",
            "_model_module_version": "1.2.0",
            "_model_name": "LayoutModel",
            "_view_count": null,
            "_view_module": "@jupyter-widgets/base",
            "_view_module_version": "1.2.0",
            "_view_name": "LayoutView",
            "align_content": null,
            "align_items": null,
            "align_self": null,
            "border": null,
            "bottom": null,
            "display": null,
            "flex": null,
            "flex_flow": null,
            "grid_area": null,
            "grid_auto_columns": null,
            "grid_auto_flow": null,
            "grid_auto_rows": null,
            "grid_column": null,
            "grid_gap": null,
            "grid_row": null,
            "grid_template_areas": null,
            "grid_template_columns": null,
            "grid_template_rows": null,
            "height": null,
            "justify_content": null,
            "justify_items": null,
            "left": null,
            "margin": null,
            "max_height": null,
            "max_width": null,
            "min_height": null,
            "min_width": null,
            "object_fit": null,
            "object_position": null,
            "order": null,
            "overflow": null,
            "overflow_x": null,
            "overflow_y": null,
            "padding": null,
            "right": null,
            "top": null,
            "visibility": null,
            "width": null
          }
        },
        "1dad89faeaf94058805300ec24d9c610": {
          "model_module": "@jupyter-widgets/controls",
          "model_name": "ButtonStyleModel",
          "model_module_version": "1.5.0",
          "state": {
            "_model_module": "@jupyter-widgets/controls",
            "_model_module_version": "1.5.0",
            "_model_name": "ButtonStyleModel",
            "_view_count": null,
            "_view_module": "@jupyter-widgets/base",
            "_view_module_version": "1.2.0",
            "_view_name": "StyleView",
            "button_color": null,
            "font_weight": ""
          }
        }
      }
    }
  },
  "cells": [
    {
      "cell_type": "markdown",
      "metadata": {
        "id": "view-in-github",
        "colab_type": "text"
      },
      "source": [
        "<a href=\"https://colab.research.google.com/github/rob-viana/Desafio-Alura---Gemini-AI/blob/main/Assistente_RH.ipynb\" target=\"_parent\"><img src=\"https://colab.research.google.com/assets/colab-badge.svg\" alt=\"Open In Colab\"/></a>"
      ]
    },
    {
      "cell_type": "markdown",
      "source": [
        "Instalação do SDK Google"
      ],
      "metadata": {
        "id": "HRnBGz0W7N9X"
      }
    },
    {
      "cell_type": "code",
      "execution_count": null,
      "metadata": {
        "id": "vl8tqfBd6ubR"
      },
      "outputs": [],
      "source": [
        "!pip install -q -U google-generativeai"
      ]
    },
    {
      "cell_type": "code",
      "source": [
        "#configuraçãoes e importações\n",
        "import numpy as np\n",
        "import pandas as pd\n",
        "import google.generativeai as genai\n",
        "from google.colab import userdata\n",
        "minha_chave = userdata.get('SECRET_KEY')\n",
        "genai.configure(api_key=minha_chave)"
      ],
      "metadata": {
        "id": "2JUWwPmz7oIt"
      },
      "execution_count": 6,
      "outputs": []
    },
    {
      "cell_type": "markdown",
      "source": [
        "Listando os modelos disponiveis"
      ],
      "metadata": {
        "id": "6ZrUvLJU82M0"
      }
    },
    {
      "cell_type": "code",
      "source": [
        "for mo in genai.list_models():\n",
        "  if \"embedContet\" in mo.supported_generation_methods:\n",
        "    print(mo.name)"
      ],
      "metadata": {
        "id": "eVONTDt5sX4v"
      },
      "execution_count": null,
      "outputs": []
    },
    {
      "cell_type": "markdown",
      "source": [
        "Configurações de temperatura de respostas:"
      ],
      "metadata": {
        "id": "MMK3wbR_9QxG"
      }
    },
    {
      "cell_type": "code",
      "source": [
        "configuracoes_basicas = {\n",
        "    \"candidate_count\":1,\n",
        "    \"temperature\":0.5,\n",
        "}"
      ],
      "metadata": {
        "id": "Dm1gbEAd9XI0"
      },
      "execution_count": null,
      "outputs": []
    },
    {
      "cell_type": "markdown",
      "source": [
        "Parametrizando as configuraçãoes de segurança.\n",
        "Importante para o caso de necessidade de alteração."
      ],
      "metadata": {
        "id": "5i6KXikO9kBD"
      }
    },
    {
      "cell_type": "code",
      "source": [
        "configuracoes_seguranca = {\n",
        "    \"Harassment\": \"Block_none\",\n",
        "    \"Hate\": \"Block_none\",\n",
        "    \"Sexual\": \"Block_none\",\n",
        "    \"Dangerous\": \"Block_None\",\n",
        "}"
      ],
      "metadata": {
        "id": "UDJhlLa19osC"
      },
      "execution_count": null,
      "outputs": []
    },
    {
      "cell_type": "code",
      "source": [
        "model = genai.GenerativeModel(model_name=\"gemini-1.0-pro\",\n",
        "                              generation_config=configuracoes_basicas,\n",
        "                              safety_settings=configuracoes_seguranca)"
      ],
      "metadata": {
        "id": "_K0T-Nyk96y7"
      },
      "execution_count": null,
      "outputs": []
    },
    {
      "cell_type": "code",
      "source": [
        "for model in genai.list_models():\n",
        "  if \"embedContent\" in model.supported_generation_methods:\n",
        "    print(model.name)"
      ],
      "metadata": {
        "colab": {
          "base_uri": "https://localhost:8080/",
          "height": 52
        },
        "id": "RoKYz2EF-h77",
        "outputId": "9834cf28-7306-4da3-aa0b-a8f19edad804"
      },
      "execution_count": null,
      "outputs": [
        {
          "output_type": "stream",
          "name": "stdout",
          "text": [
            "models/embedding-001\n",
            "models/text-embedding-004\n"
          ]
        }
      ]
    },
    {
      "cell_type": "code",
      "source": [
        "# Exemplo de embedding\n",
        "title = \"Vaga para Gerente Comercial\"\n",
        "sample_text = (\"Título: Vaga para Gerente Comercial\"\n",
        "                        \"\\n\"\n",
        "                        \"Procuramos Gerente de Vendas para desenvolver estratégias, alcançar metas e garantir a satisfação do cliente na Academia da Face. Esta é uma oportunidade única para quem deseja fazer parte de uma empresa inovadora e em crescimento no setor de estética.Experiência comprovada em vendas. Preferencialmente, conhecimento no setor de estética e bem-estar. Habilidades excepcionais de comunicação e negociação. Excelente organização e gerenciamento de tempo. Foco na satisfação e experiência do cliente.\")\n",
        "\n",
        "embeddings = genai.embed_content(model=\"models/embedding-001\",\n",
        "                                 content=sample_text,\n",
        "                                 title=title,\n",
        "                                 task_type=\"RETRIEVAL_DOCUMENT\")\n",
        "print(embeddings)\n"
      ],
      "metadata": {
        "colab": {
          "base_uri": "https://localhost:8080/",
          "height": 54
        },
        "id": "9zPJQWdHC6Ir",
        "outputId": "9bad3717-10d0-4e0d-bbfa-734ead787fb3"
      },
      "execution_count": 4,
      "outputs": [
        {
          "output_type": "stream",
          "name": "stdout",
          "text": [
            "{'embedding': [0.06305395, -0.01364274, -0.010241299, 0.008322683, 0.023045942, 0.023640364, 0.013717146, 0.027174179, -0.0124367485, 0.0685895, -0.015456245, 0.016340101, 0.012679756, -0.011257882, 0.03884935, -0.018105188, -0.03918156, -0.028344762, -0.039546326, -0.022913149, 0.02030854, 0.002989264, -0.010270103, -0.035034247, -0.010353216, -0.0142493695, 0.023864685, -0.017607009, -0.009771889, 0.029590053, -0.0745057, 0.042787325, -0.050783493, -0.0025974778, -0.004975191, -0.07211683, -0.03716371, -0.023269465, -0.026879862, 0.0037419104, 0.013770794, -0.017478043, -0.014780433, -0.037125517, 0.007034199, -0.00048605926, 0.008418333, 0.052788373, 0.024450082, -0.10183931, 0.0063431533, 0.010482046, 0.032871306, 0.021232273, -0.0025924516, -0.05677812, 0.046659432, -0.008769476, -0.036160607, -0.010105197, 0.022317447, 0.014960988, 0.032723438, 0.03610762, -0.0023161368, -0.0038261816, -0.061902083, 0.015106693, 0.023525352, 0.06800396, -0.0100297555, -0.037644595, 0.03878087, 0.006063428, -0.020828363, -0.08155638, -0.047213115, 0.08668073, 0.014876835, -0.03534542, -0.022221481, -0.095110275, -0.059852067, -0.044424076, -0.02991511, 0.040881906, -0.058077343, -0.020948805, 0.028547144, -0.022738619, -0.006919534, -0.013639779, -0.021353902, -0.01952173, -0.018320246, 0.051448025, -0.087901436, -0.075024605, 0.00013676962, -0.044842266, -0.059957694, 0.0008078317, -0.01026058, 0.012273549, -0.024176722, 0.012801543, -0.003342, 0.04094808, -0.024073638, 0.04317726, -0.05196717, -0.011870386, 0.03020088, -0.022761352, 0.022014072, -0.036795136, 0.0047984286, 0.081380226, 0.056947585, 0.03357469, -0.008136654, -0.011498045, 0.06991009, 0.016125262, 0.020684544, -0.014824496, -0.019167218, -0.008316299, 0.05001059, 0.06374679, 0.011276514, -0.010685954, 0.012642912, 0.01670293, 0.028805675, 0.05494802, 0.01803517, -0.008292219, 0.023086073, 0.017833862, 0.008149122, 0.028633915, 0.018346868, 0.005006983, -0.0045528654, 0.0902387, -0.06770295, 0.031334713, 0.06360985, -0.046337128, 0.018414598, -0.013233671, -0.04135093, -0.009668436, 0.05016699, 0.016377626, -0.025933482, 0.0020442235, 0.07260648, 0.019269422, 0.005319625, -0.0023474419, 0.033749748, -0.018293077, 0.005969239, -0.055516236, 0.04483062, 0.03766625, 0.054428384, -0.0132457, 0.044657588, 0.033287894, -0.06498076, -0.052868858, -0.0076847095, -0.033064, 0.0004333951, -0.032371048, -0.05239592, -0.0032888455, 0.019204319, -0.008707574, -0.006171327, 0.04114502, 0.008060061, -0.002309442, 0.045063037, -0.027236314, -0.018537974, 0.052415516, 0.031764377, -0.049967106, -0.036139607, -0.03842984, -0.010954525, 0.016061796, -0.0017635584, 0.025942313, 0.027313048, -0.022475341, -0.0061756866, 0.1182635, 0.04286481, 0.0069095907, 0.015552591, -0.038358703, 0.0078612575, -0.062292207, -0.045800004, 0.028730167, -0.07729066, 0.023690443, -0.022625849, -0.0139242485, 0.006651724, -0.0073854052, 0.03571468, 0.012607091, -0.0066722715, -0.0064707296, -0.010697828, 0.001579694, -0.05246714, 0.006696439, -0.024926635, 0.011001743, -0.0472601, 0.010181856, 0.012635474, -0.06265387, -0.0028273722, 0.019353552, 0.049335312, -0.002656675, 0.046964843, -0.026586052, 0.025648676, 0.04104945, -0.014440651, 0.032067005, -0.0011460725, 0.06536699, 0.050392497, 0.044538513, -0.053533416, 0.008351729, -0.02809466, 0.046147734, 0.009769332, 0.0814471, -0.014009898, -0.024637736, -0.053839426, 0.012088589, -0.022537813, 0.024728773, -0.075568475, -0.029429516, 0.053488936, 0.0072804634, 0.0532719, 0.031199468, 0.016238997, 0.017395478, -0.042769242, 0.009537034, -0.005819384, -0.04370075, -0.012313784, 0.02587195, 0.0493078, -0.022698887, 0.05416675, 0.03013752, -0.012109458, 0.024694538, -0.04490217, 0.035592064, 0.0051528974, -0.035584092, 0.028174888, 0.020945687, 0.030239198, 0.026710864, -0.04063623, -0.0038708167, -0.058845695, -0.07066429, -0.016930124, -0.042760838, -0.040768918, 0.049362678, 0.017348215, 0.0053250375, -0.065612845, -0.062460847, -0.009689875, 0.01735426, 0.053038597, -0.031146903, 0.034656364, -0.018685, 0.034946408, -0.054983217, 0.0152534675, -0.0012628936, 0.031058466, -0.017084697, 0.04202375, 0.028533082, 0.04878876, -0.012704241, -0.031439323, 0.001024967, 0.043855265, 0.065766506, -0.0322213, -0.020352956, -0.07143892, 0.05258013, 0.031281292, 0.059898302, 0.017629912, 0.009384216, 0.043115303, -0.028153066, -0.007621536, 0.012195786, 0.028588153, -0.0005919788, 0.01701099, -0.047232762, -0.03295235, -0.0063740783, 0.02152315, 0.02585267, -0.03914814, 0.0044349805, 0.008851271, -0.023793465, 0.034110904, 0.0067848214, -0.019018736, -0.017406771, 0.01298803, 0.032824393, -0.01850964, 0.01967045, 0.069603965, 0.020868048, -0.03810894, 0.011265249, 0.021818178, 0.00037399094, 0.006259177, -0.030851604, 0.061466552, 0.025414512, 0.024155213, -0.026686437, -0.09161972, 0.07352715, -0.042288613, 0.025220405, -0.018687852, -0.011152781, 0.029320344, -0.02085449, -0.008185857, 0.10189474, 0.008501818, 0.015206204, 0.052336503, 0.000422634, 0.005236852, -0.0038947428, 0.0201085, -0.02900059, 0.042647805, 0.057806786, 0.016543146, -0.04486792, 0.043900695, 0.01692892, -0.0078003034, -0.012813096, 0.070656165, 0.036501992, -0.017362019, 0.040734895, -0.024645261, 0.020671379, 0.05468263, 0.056601487, 0.02712503, -0.036695108, -0.008432656, -0.017151948, 0.0014239716, 0.01689468, 0.01481248, -0.063989095, -0.007214787, 0.013790968, -0.015405151, -0.035970747, -0.016168308, -0.049721163, -0.015812773, -0.03406466, -0.035958756, 0.017267922, 0.031526648, -0.028647888, -0.024878187, 0.022369467, 0.022674918, 0.03248598, 0.015213853, 0.035765074, 0.012066281, 0.045685153, -0.017894302, -0.013993242, -0.03814071, -0.025796717, 0.01807229, -0.029015694, -0.047896072, -0.023269325, 0.033023544, 0.021155717, 0.02433422, 0.0031552156, 0.018316764, -0.044039585, -0.0057969885, 0.00959766, -0.012362474, -0.02073468, 0.03595164, -0.0033668412, 0.025619742, -0.015024494, -0.004370708, -0.01872157, 0.046640538, -0.013321215, -0.0020776738, -0.08766202, 0.005869506, -0.032329973, -0.014844533, -0.05499043, -0.004152703, -0.031916834, 0.060141258, 0.030029511, -0.0102914255, 0.051954683, 0.011741274, -0.031835344, -0.053409856, 0.021391278, 0.026225736, -0.004681882, 0.07788451, 0.010248065, -0.011315038, 0.0493081, 0.041222073, -0.03277779, 0.007450296, 0.0015912045, -0.018054524, -0.0055741784, -0.047620174, 0.036738306, -0.06555729, -0.004408034, -0.035706643, -0.05139333, -0.0030447375, -0.0024952723, -0.02663604, 0.028297424, -0.020865325, -0.04279477, 0.024924736, 0.084896185, -0.028164443, -0.0013710958, -0.020139601, -0.0869662, -0.009672183, 0.029587306, -0.09199245, 0.058374714, 0.028526353, 0.0068314984, -0.045537777, 0.030205326, 0.006047201, -0.0009343017, -0.0051845615, -0.0566248, 0.035958868, 0.03738564, 0.016648224, -0.02111177, 0.034916125, 0.0017433454, -0.0137947565, -0.02647659, 0.06875415, -0.044710144, 0.0029303, -0.0034494775, -0.0051372806, 0.023973078, -0.0051515033, 0.040192448, -0.050984632, -0.036725428, 0.041502547, -0.03541096, -0.010578828, 0.01919421, -0.035816826, 0.015179572, -0.031776726, 0.10391896, -0.010967269, 0.010090037, 0.012327451, -0.011104288, 0.003516878, 0.034264874, 0.03155438, -0.016000729, 0.041211307, -0.03514017, 0.030302536, 0.035322, -0.037387792, 0.02286918, 0.010887122, -0.03660575, -0.04201379, -0.006813921, 0.026000112, -0.013217412, -0.039257057, -0.02375099, 0.013839341, -0.023895273, -0.01775491, 0.023052651, 0.028509416, -0.052944455, -0.0074283434, -0.010139677, -0.0031865255, -0.00068901095, 0.063330665, 0.036617395, -0.06466433, -0.0025079995, 0.004542354, -0.0064317384, 0.050349616, 0.021837093, 0.061405443, 0.04130697, -0.018498302, 0.023030384, -0.0037943, -0.017040286, -0.024211591, 0.010181885, 0.038825683, -0.023796173, 0.0036958198, 0.02988475, 0.0016008938, 0.008986912, 0.037037227, -0.009430133, 0.068289906, -0.015313646, -0.052311197, 0.051531672, 0.043187153, 0.013523096, -0.02180021, -0.020657448, 0.03329092, -0.08471525, 0.047150712, -0.057987005, -0.023412386, 0.00056855736, 0.022475885, 0.030897157, 0.002771063, -0.0010532617, 0.046421632, 0.0074180965, -0.006821932, 0.010681569, -0.00050168537, -0.08519586, 0.0033878288, 0.033910487, -0.05412173, -0.01797273, 0.040309537, 0.03443412, -0.046039112, -0.028497279, -0.0021457993, 0.012097993, -0.020520112, -0.007227123, -0.0017762086, 0.018383533, 0.0063308645, -0.016626872, 0.03931585, 0.050066385, 0.06848506, 0.061151624, -0.00024421202, 0.0010478102, -0.01664434, -0.017415754, -0.025846107, 0.02012322, 0.024305357, 0.030493358, -0.089988604, 0.0108330585, 0.027833896, -0.008889403, -0.055319127, 0.07680761, 0.009731315, -0.065114975, -0.055676326, -0.028877802, 0.0008223685, 0.0017887071, -0.03182661, 0.01725907, 0.006313901, -0.0038032483, -0.008168287, -0.014829896, 0.052675385, 0.014790161, -0.029597916, -0.0063034743, 0.026371742, 0.0013916418, 0.0014460218, 0.030901963, -0.10283907, -0.05974056, -0.04937114, 0.0021707017, -0.058353, 0.058850847, 0.04716097, -0.05269065, -0.007025709, 0.038979482, -0.0297973, -0.04096148, 0.0055652442, 0.05916798, -0.029957263, -0.06450092, -0.02261693, -0.008198852, -0.050882857, 0.029855106, 0.082489885, -0.042183165, -0.04310542, -0.06443532, 0.008016046, -0.079616114, -0.017264957, -0.0073926095, 0.021555861, -0.0024646495, 0.024818307, -0.019506587, 0.0076028705, -0.0012824717, 0.009662731, -0.0027742852, -0.0036955553, 0.03591453, 0.0048256502, -0.011565839, -0.003974946, -0.056416865, 0.018689897, 0.03186802, 0.01315231, -0.0212844, -0.07067433, 0.012365813, 0.0034198812, -0.041085802, 0.0041908426, 0.05853479, -0.015054938, 0.040698275, 0.022328531, -0.04983492, 0.017080901, -0.0777997, -0.03571582, 0.043234933, -0.016450156, 0.010002814, 0.013376009, -0.00626967, 0.11262307, -0.031049019, -0.035429545, 0.03564835, -0.07311359, 0.06623089, -0.03931934, 0.015758434, -0.019990934, -0.051678192, -0.06274865, 0.009881224, -0.022743598, 0.06280066, 0.02140329, 0.042313833, -0.0294859, 0.006529127, -0.056857396, -0.05574462, -0.022438038, 0.01638592, 0.044836372, 0.053258397, 0.049881577, -0.01796275, -0.002682219, -0.021393202, 0.018391434, 0.024434801, -0.048050456, -0.047939945, 0.024059841, 0.0040979334, 0.02467204, 0.037719965, 0.015855478, -0.031135526]}\n"
          ]
        }
      ]
    },
    {
      "cell_type": "markdown",
      "source": [
        "Função para importação de currículos dos candidatos para comparação com o modelo desejado!"
      ],
      "metadata": {
        "id": "maNfqXnOQLTd"
      }
    },
    {
      "cell_type": "code",
      "source": [
        "import pandas as pd\n",
        "!pip install -q ipywidgets\n",
        "from google.colab import drive"
      ],
      "metadata": {
        "id": "XTeZWgJvSYrm"
      },
      "execution_count": 15,
      "outputs": []
    },
    {
      "cell_type": "code",
      "source": [
        "from ipywidgets import widgets\n",
        "\n",
        "# Criar widget para upload de arquivo\n",
        "upload_widget = widgets.FileUpload(\n",
        "    multiple=False,  # Permitir apenas um arquivo por upload\n",
        "    accept='.pdf'  # Limitar o tipo de arquivo para PDF\n",
        ")"
      ],
      "metadata": {
        "id": "Elu4jyh6WyIG"
      },
      "execution_count": 23,
      "outputs": []
    },
    {
      "cell_type": "code",
      "source": [
        "\n",
        "# Definir uma função para lidar com o arquivo enviado\n",
        "def handle_uploaded_file(change):\n",
        "    uploaded_file = change['new']  # Obter o arquivo enviado\n",
        "    if uploaded_file:  # Verificar se o arquivo foi enviado\n",
        "        # Obter o nome do arquivo\n",
        "        filename = uploaded_file[\"name\"]\n",
        "        # Obter o conteúdo do arquivo\n",
        "        file_content = uploaded_file['contents']\n",
        "\n",
        "        # Salvar o arquivo PDF em uma pasta específica\n",
        "        with open('https://drive.google.com/drive/folders/1VofQlR3bTbYzcc5eG-boDvfYInqwPP1h' + filename, 'wb') as f:\n",
        "            f.write(file_content)\n",
        "        print(f\"Arquivo {filename} salvo com sucesso!\")\n",
        "\n",
        "# Conectar a função de manipulação ao evento de upload\n",
        "upload_widget.observe(handle_uploaded_file, names='value')\n",
        "\n",
        "# Exibir o prompt de upload\n",
        "display(upload_widget)"
      ],
      "metadata": {
        "colab": {
          "base_uri": "https://localhost:8080/",
          "height": 49,
          "referenced_widgets": [
            "88bd03f81ac24fd68773d4fbf7aee178",
            "1cce700067354a64bb4374a9d4b74719",
            "1dad89faeaf94058805300ec24d9c610"
          ]
        },
        "id": "mhRMtzVsN6s3",
        "outputId": "f6adb9f4-9d82-44bd-e881-2f2ebd0473c9"
      },
      "execution_count": 47,
      "outputs": [
        {
          "output_type": "display_data",
          "data": {
            "text/plain": [
              "FileUpload(value={'Currículo Advogada.pdf': {'metadata': {'name': 'Currículo Advogada.pdf', 'type': 'applicati…"
            ],
            "application/vnd.jupyter.widget-view+json": {
              "version_major": 2,
              "version_minor": 0,
              "model_id": "88bd03f81ac24fd68773d4fbf7aee178"
            }
          },
          "metadata": {}
        }
      ]
    },
    {
      "cell_type": "markdown",
      "source": [
        "Exibindo resultados"
      ],
      "metadata": {
        "id": "eKGy1UwNX3bE"
      }
    },
    {
      "cell_type": "code",
      "source": [
        "\n",
        "def compare_file_content_to_embedding(filename, file_content, title, sample_text):\n",
        "    # Convert file content to text\n",
        "    file_text = file_content.decode('utf-8')\n",
        "\n",
        "    # Combine title, sample text, and file content into a single text\n",
        "    combined_text = title + '\\n\\n' + sample_text + '\\n\\n' + file_text\n",
        "\n",
        "    # Create a DataFrame from the combined text\n",
        "    df = pd.DataFrame({'text': [combined_text]})\n",
        "\n",
        "    # Calculate the embedding for the combined text\n",
        "    # (Replace 'embedding_model' with your chosen embedding model)\n",
        "    embedding = embedding_model.predict(df['text'])\n",
        "\n",
        "    # Compare the embedding of the uploaded file to the embedding of the sample text\n",
        "    similarity = cosine_similarity(embedding, sample_embedding)\n",
        "\n",
        "    # Print the similarity score\n",
        "    print(f\"Similarity score: {similarity}\")\n",
        "\n",
        "    # You can also perform additional actions based on the similarity score\n",
        "    # (e.g., classify the file as relevant or not)\n"
      ],
      "metadata": {
        "id": "WYEjj_UuX9ZA"
      },
      "execution_count": 45,
      "outputs": []
    },
    {
      "cell_type": "code",
      "source": [
        "\n",
        "def compare_file_content_to_embedding(filename, file_content, title, sample_text):\n",
        "    # Convertendo file content para texto\n",
        "    file_text = file_content.decode('utf-8')\n",
        "\n",
        "    # Combine title, sample text, e file content into a single text\n",
        "    combined_text = title + '\\n\\n' + sample_text + '\\n\\n' + file_text\n",
        "\n",
        "    # Create a DataFrame from the combined text\n",
        "    df = pd.DataFrame({'text': [combined_text]})\n",
        "\n",
        "    # Calculate the embedding for the combined text\n",
        "    # (Replace 'embedding_model' with your chosen embedding model)\n",
        "    embedding = embedding_model.predict(df['text'])\n",
        "\n",
        "    # Compare the embedding of the uploaded file to the embedding of the sample text\n",
        "    similarity = cosine_similarity(embedding, sample_embedding)\n",
        "\n",
        "    # Print the similarity score\n",
        "    print(f\"Similarity score: {similarity}\")\n",
        "\n",
        "    # You can also perform additional actions based on the similarity score\n",
        "    # (e.g., classify the file as relevant or not)\n"
      ],
      "metadata": {
        "id": "RCzfW7DHc_sO"
      },
      "execution_count": 46,
      "outputs": []
    }
  ]
}